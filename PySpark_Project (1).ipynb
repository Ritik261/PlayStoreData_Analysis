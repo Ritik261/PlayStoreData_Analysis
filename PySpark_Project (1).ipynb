{
 "cells": [
  {
   "cell_type": "code",
   "execution_count": 0,
   "metadata": {
    "application/vnd.databricks.v1+cell": {
     "cellMetadata": {
      "byteLimit": 2048000,
      "rowLimit": 10000
     },
     "inputWidgets": {},
     "nuid": "99d0a950-3620-494b-b531-2a00f7b898db",
     "showTitle": true,
     "title": "Importing Required Libraries"
    }
   },
   "outputs": [],
   "source": [
    "import pyspark\n",
    "from pyspark.sql import SparkSession\n",
    "from pyspark.sql.types import StructType,StructField,StringType,IntegerType\n",
    "from pyspark.sql.functions import *\n",
    "from pyspark.sql.types import *"
   ]
  },
  {
   "cell_type": "code",
   "execution_count": 0,
   "metadata": {
    "application/vnd.databricks.v1+cell": {
     "cellMetadata": {
      "byteLimit": 2048000,
      "rowLimit": 10000
     },
     "inputWidgets": {},
     "nuid": "b65f953a-7d3d-493f-a55e-3d62ae7a88c3",
     "showTitle": true,
     "title": "Importing CSV file into Spark"
    }
   },
   "outputs": [],
   "source": [
    "file = spark.read.format(\"csv\").option(\"header\", \"true\").load(\"dbfs:/FileStore/shared_uploads/rs1356432@gmail.com/googleplaystore.csv\")"
   ]
  },
  {
   "cell_type": "code",
   "execution_count": 0,
   "metadata": {
    "application/vnd.databricks.v1+cell": {
     "cellMetadata": {
      "byteLimit": 2048000,
      "rowLimit": 10000
     },
     "inputWidgets": {},
     "nuid": "83db54fc-6f03-4648-914f-b323d1c2bcc0",
     "showTitle": true,
     "title": "Data Show"
    }
   },
   "outputs": [
    {
     "output_type": "stream",
     "name": "stdout",
     "output_type": "stream",
     "text": [
      "+--------------------+--------------+------+-------+----+--------+----+-----+--------------+--------------------+----------------+-----------+------------+\n|                 App|      Category|Rating|Reviews|Size|Installs|Type|Price|Content Rating|              Genres|    Last Updated|Current Ver| Android Ver|\n+--------------------+--------------+------+-------+----+--------+----+-----+--------------+--------------------+----------------+-----------+------------+\n|Photo Editor & Ca...|ART_AND_DESIGN|   4.1|    159| 19M| 10,000+|Free|    0|      Everyone|        Art & Design| January 7, 2018|      1.0.0|4.0.3 and up|\n| Coloring book moana|ART_AND_DESIGN|   3.9|    967| 14M|500,000+|Free|    0|      Everyone|Art & Design;Pret...|January 15, 2018|      2.0.0|4.0.3 and up|\n+--------------------+--------------+------+-------+----+--------+----+-----+--------------+--------------------+----------------+-----------+------------+\nonly showing top 2 rows\n\n"
     ]
    }
   ],
   "source": [
    "file.show(2)"
   ]
  },
  {
   "cell_type": "code",
   "execution_count": 0,
   "metadata": {
    "application/vnd.databricks.v1+cell": {
     "cellMetadata": {
      "byteLimit": 2048000,
      "rowLimit": 10000
     },
     "inputWidgets": {},
     "nuid": "5e6b0043-2120-4ae5-b3b6-b742740d97f8",
     "showTitle": true,
     "title": "Delete Columns"
    }
   },
   "outputs": [],
   "source": [
    "file = file.drop(\"Size\",\"Content Rating\",\"Current Ver\", \"Android Ver\")"
   ]
  },
  {
   "cell_type": "code",
   "execution_count": 0,
   "metadata": {
    "application/vnd.databricks.v1+cell": {
     "cellMetadata": {
      "byteLimit": 2048000,
      "rowLimit": 10000
     },
     "inputWidgets": {},
     "nuid": "fefdb506-00ac-458d-a870-d279c30a114a",
     "showTitle": false,
     "title": ""
    }
   },
   "outputs": [
    {
     "output_type": "stream",
     "name": "stdout",
     "output_type": "stream",
     "text": [
      "+--------------------+--------------+------+-------+--------+----+-----+--------------------+----------------+\n|                 App|      Category|Rating|Reviews|Installs|Type|Price|              Genres|    Last Updated|\n+--------------------+--------------+------+-------+--------+----+-----+--------------------+----------------+\n|Photo Editor & Ca...|ART_AND_DESIGN|   4.1|    159| 10,000+|Free|    0|        Art & Design| January 7, 2018|\n| Coloring book moana|ART_AND_DESIGN|   3.9|    967|500,000+|Free|    0|Art & Design;Pret...|January 15, 2018|\n+--------------------+--------------+------+-------+--------+----+-----+--------------------+----------------+\nonly showing top 2 rows\n\n"
     ]
    }
   ],
   "source": [
    "file.show(2)"
   ]
  },
  {
   "cell_type": "code",
   "execution_count": 0,
   "metadata": {
    "application/vnd.databricks.v1+cell": {
     "cellMetadata": {
      "byteLimit": 2048000,
      "rowLimit": 10000
     },
     "inputWidgets": {},
     "nuid": "20715cb6-b3d0-4d3f-bafb-36ec8800fba5",
     "showTitle": true,
     "title": "Print Schema"
    }
   },
   "outputs": [
    {
     "output_type": "stream",
     "name": "stdout",
     "output_type": "stream",
     "text": [
      "root\n |-- App: string (nullable = true)\n |-- Category: string (nullable = true)\n |-- Rating: string (nullable = true)\n |-- Reviews: string (nullable = true)\n |-- Installs: string (nullable = true)\n |-- Type: string (nullable = true)\n |-- Price: string (nullable = true)\n |-- Genres: string (nullable = true)\n |-- Last Updated: string (nullable = true)\n\n"
     ]
    }
   ],
   "source": [
    "file.printSchema()"
   ]
  },
  {
   "cell_type": "code",
   "execution_count": 0,
   "metadata": {
    "application/vnd.databricks.v1+cell": {
     "cellMetadata": {
      "byteLimit": 2048000,
      "rowLimit": 10000
     },
     "inputWidgets": {},
     "nuid": "8b89453c-3dea-4487-91dd-8f286f56232a",
     "showTitle": true,
     "title": "Change Data Type"
    }
   },
   "outputs": [],
   "source": [
    "from pyspark.sql.functions import regexp_replace,col\n",
    "file=file.withColumn(\"Reviews\",col(\"Reviews\").cast(IntegerType()))\\\n",
    "    .withColumn(\"Installs\",regexp_replace(col(\"Installs\"),\"[^0-9]\",\"\"))\\\n",
    "        .withColumn(\"Installs\",col(\"Installs\").cast(IntegerType()))\\\n",
    "            .withColumn(\"Price\",regexp_replace(col(\"Price\"),\"[$]\",\"\"))\\\n",
    "                .withColumn(\"Price\",col(\"Price\").cast(IntegerType()))"
   ]
  },
  {
   "cell_type": "code",
   "execution_count": 0,
   "metadata": {
    "application/vnd.databricks.v1+cell": {
     "cellMetadata": {
      "byteLimit": 2048000,
      "rowLimit": 10000
     },
     "inputWidgets": {},
     "nuid": "ec507811-4bb4-4519-89f3-bee2a3debdc1",
     "showTitle": false,
     "title": ""
    }
   },
   "outputs": [
    {
     "output_type": "stream",
     "name": "stdout",
     "output_type": "stream",
     "text": [
      "root\n |-- App: string (nullable = true)\n |-- Category: string (nullable = true)\n |-- Rating: string (nullable = true)\n |-- Reviews: integer (nullable = true)\n |-- Installs: integer (nullable = true)\n |-- Type: string (nullable = true)\n |-- Price: integer (nullable = true)\n |-- Genres: string (nullable = true)\n |-- Last Updated: string (nullable = true)\n\n"
     ]
    }
   ],
   "source": [
    "file.printSchema()"
   ]
  },
  {
   "cell_type": "code",
   "execution_count": 0,
   "metadata": {
    "application/vnd.databricks.v1+cell": {
     "cellMetadata": {
      "byteLimit": 2048000,
      "rowLimit": 10000
     },
     "inputWidgets": {},
     "nuid": "80e8e4a1-d08b-4377-8a4f-31a4c62a0710",
     "showTitle": false,
     "title": ""
    }
   },
   "outputs": [
    {
     "output_type": "stream",
     "name": "stdout",
     "output_type": "stream",
     "text": [
      "+--------------------+--------------+------+-------+--------+----+-----+------------+---------------+\n|                 App|      Category|Rating|Reviews|Installs|Type|Price|      Genres|   Last Updated|\n+--------------------+--------------+------+-------+--------+----+-----+------------+---------------+\n|Photo Editor & Ca...|ART_AND_DESIGN|   4.1|    159|   10000|Free|    0|Art & Design|January 7, 2018|\n+--------------------+--------------+------+-------+--------+----+-----+------------+---------------+\nonly showing top 1 row\n\n"
     ]
    }
   ],
   "source": [
    "file.show(1)"
   ]
  },
  {
   "cell_type": "code",
   "execution_count": 0,
   "metadata": {
    "application/vnd.databricks.v1+cell": {
     "cellMetadata": {
      "byteLimit": 2048000,
      "rowLimit": 10000
     },
     "inputWidgets": {},
     "nuid": "1dacac06-321a-4042-add8-ecf2a89661f4",
     "showTitle": false,
     "title": ""
    }
   },
   "outputs": [],
   "source": [
    "file = file.withColumn(\"Rating\",col(\"Rating\").cast(DoubleType()))"
   ]
  },
  {
   "cell_type": "code",
   "execution_count": 0,
   "metadata": {
    "application/vnd.databricks.v1+cell": {
     "cellMetadata": {
      "byteLimit": 2048000,
      "rowLimit": 10000
     },
     "inputWidgets": {},
     "nuid": "11bfe4be-98c6-44c8-9dde-813a5587401a",
     "showTitle": true,
     "title": "Create SQL Temp View"
    }
   },
   "outputs": [],
   "source": [
    "file.createOrReplaceTempView(\"mydata\")"
   ]
  },
  {
   "cell_type": "code",
   "execution_count": 0,
   "metadata": {
    "application/vnd.databricks.v1+cell": {
     "cellMetadata": {
      "byteLimit": 2048000,
      "implicitDf": true,
      "rowLimit": 10000
     },
     "inputWidgets": {},
     "nuid": "d6c1b150-6414-4050-bb65-1bcbb20efa57",
     "showTitle": false,
     "title": ""
    }
   },
   "outputs": [
    {
     "output_type": "display_data",
     "data": {
      "text/html": [
       "<style scoped>\n",
       "  .table-result-container {\n",
       "    max-height: 300px;\n",
       "    overflow: auto;\n",
       "  }\n",
       "  table, th, td {\n",
       "    border: 1px solid black;\n",
       "    border-collapse: collapse;\n",
       "  }\n",
       "  th, td {\n",
       "    padding: 5px;\n",
       "  }\n",
       "  th {\n",
       "    text-align: left;\n",
       "  }\n",
       "</style><div class='table-result-container'><table class='table-result'><thead style='background-color: white'><tr><th>App</th><th>Category</th><th>Rating</th><th>Reviews</th><th>Installs</th><th>Type</th><th>Price</th><th>Genres</th><th>Last Updated</th></tr></thead><tbody><tr><td>Photo Editor & Candy Camera & Grid & ScrapBook</td><td>ART_AND_DESIGN</td><td>4.1</td><td>159</td><td>10000</td><td>Free</td><td>0</td><td>Art & Design</td><td>January 7, 2018</td></tr><tr><td>Coloring book moana</td><td>ART_AND_DESIGN</td><td>3.9</td><td>967</td><td>500000</td><td>Free</td><td>0</td><td>Art & Design;Pretend Play</td><td>January 15, 2018</td></tr><tr><td>U Launcher Lite – FREE Live Cool Themes, Hide Apps</td><td>ART_AND_DESIGN</td><td>4.7</td><td>87510</td><td>5000000</td><td>Free</td><td>0</td><td>Art & Design</td><td>August 1, 2018</td></tr><tr><td>Sketch - Draw & Paint</td><td>ART_AND_DESIGN</td><td>4.5</td><td>215644</td><td>50000000</td><td>Free</td><td>0</td><td>Art & Design</td><td>June 8, 2018</td></tr><tr><td>Pixel Draw - Number Art Coloring Book</td><td>ART_AND_DESIGN</td><td>4.3</td><td>967</td><td>100000</td><td>Free</td><td>0</td><td>Art & Design;Creativity</td><td>June 20, 2018</td></tr></tbody></table></div>"
      ]
     },
     "metadata": {
      "application/vnd.databricks.v1+output": {
       "addedWidgets": {},
       "aggData": [],
       "aggError": "",
       "aggOverflow": false,
       "aggSchema": [],
       "aggSeriesLimitReached": false,
       "aggType": "",
       "arguments": {},
       "columnCustomDisplayInfos": {},
       "data": [
        [
         "Photo Editor & Candy Camera & Grid & ScrapBook",
         "ART_AND_DESIGN",
         4.1,
         159,
         10000,
         "Free",
         0,
         "Art & Design",
         "January 7, 2018"
        ],
        [
         "Coloring book moana",
         "ART_AND_DESIGN",
         3.9,
         967,
         500000,
         "Free",
         0,
         "Art & Design;Pretend Play",
         "January 15, 2018"
        ],
        [
         "U Launcher Lite – FREE Live Cool Themes, Hide Apps",
         "ART_AND_DESIGN",
         4.7,
         87510,
         5000000,
         "Free",
         0,
         "Art & Design",
         "August 1, 2018"
        ],
        [
         "Sketch - Draw & Paint",
         "ART_AND_DESIGN",
         4.5,
         215644,
         50000000,
         "Free",
         0,
         "Art & Design",
         "June 8, 2018"
        ],
        [
         "Pixel Draw - Number Art Coloring Book",
         "ART_AND_DESIGN",
         4.3,
         967,
         100000,
         "Free",
         0,
         "Art & Design;Creativity",
         "June 20, 2018"
        ]
       ],
       "datasetInfos": [],
       "dbfsResultPath": null,
       "isJsonSchema": true,
       "metadata": {},
       "overflow": false,
       "plotOptions": {
        "customPlotOptions": {},
        "displayType": "table",
        "pivotAggregation": null,
        "pivotColumns": null,
        "xColumns": null,
        "yColumns": null
       },
       "removedWidgets": [],
       "schema": [
        {
         "metadata": "{}",
         "name": "App",
         "type": "\"string\""
        },
        {
         "metadata": "{}",
         "name": "Category",
         "type": "\"string\""
        },
        {
         "metadata": "{}",
         "name": "Rating",
         "type": "\"double\""
        },
        {
         "metadata": "{}",
         "name": "Reviews",
         "type": "\"integer\""
        },
        {
         "metadata": "{}",
         "name": "Installs",
         "type": "\"integer\""
        },
        {
         "metadata": "{}",
         "name": "Type",
         "type": "\"string\""
        },
        {
         "metadata": "{}",
         "name": "Price",
         "type": "\"integer\""
        },
        {
         "metadata": "{}",
         "name": "Genres",
         "type": "\"string\""
        },
        {
         "metadata": "{}",
         "name": "Last Updated",
         "type": "\"string\""
        }
       ],
       "type": "table"
      }
     },
     "output_type": "display_data"
    }
   ],
   "source": [
    "%sql select * from mydata\n",
    "limit 5"
   ]
  },
  {
   "cell_type": "code",
   "execution_count": 0,
   "metadata": {
    "application/vnd.databricks.v1+cell": {
     "cellMetadata": {
      "byteLimit": 2048000,
      "implicitDf": true,
      "rowLimit": 10000
     },
     "inputWidgets": {},
     "nuid": "aeff0fd5-8378-470e-83bb-e2a93a85b1e7",
     "showTitle": true,
     "title": "Top Reviews given to apps"
    }
   },
   "outputs": [
    {
     "output_type": "display_data",
     "data": {
      "text/html": [
       "<style scoped>\n",
       "  .table-result-container {\n",
       "    max-height: 300px;\n",
       "    overflow: auto;\n",
       "  }\n",
       "  table, th, td {\n",
       "    border: 1px solid black;\n",
       "    border-collapse: collapse;\n",
       "  }\n",
       "  th, td {\n",
       "    padding: 5px;\n",
       "  }\n",
       "  th {\n",
       "    text-align: left;\n",
       "  }\n",
       "</style><div class='table-result-container'><table class='table-result'><thead style='background-color: white'><tr><th>App</th><th>sum(Reviews)</th></tr></thead><tbody><tr><td>Instagram</td><td>266241989</td></tr><tr><td>WhatsApp Messenger</td><td>207348304</td></tr><tr><td>Clash of Clans</td><td>179558781</td></tr><tr><td>Messenger – Text and Video Chat for Free</td><td>169932272</td></tr><tr><td>Subway Surfers</td><td>166331958</td></tr></tbody></table></div>"
      ]
     },
     "metadata": {
      "application/vnd.databricks.v1+output": {
       "addedWidgets": {},
       "aggData": [],
       "aggError": "",
       "aggOverflow": false,
       "aggSchema": [],
       "aggSeriesLimitReached": false,
       "aggType": "",
       "arguments": {},
       "columnCustomDisplayInfos": {},
       "data": [
        [
         "Instagram",
         266241989
        ],
        [
         "WhatsApp Messenger",
         207348304
        ],
        [
         "Clash of Clans",
         179558781
        ],
        [
         "Messenger – Text and Video Chat for Free",
         169932272
        ],
        [
         "Subway Surfers",
         166331958
        ]
       ],
       "datasetInfos": [],
       "dbfsResultPath": null,
       "isJsonSchema": true,
       "metadata": {},
       "overflow": false,
       "plotOptions": {
        "customPlotOptions": {},
        "displayType": "table",
        "pivotAggregation": null,
        "pivotColumns": null,
        "xColumns": null,
        "yColumns": null
       },
       "removedWidgets": [],
       "schema": [
        {
         "metadata": "{}",
         "name": "App",
         "type": "\"string\""
        },
        {
         "metadata": "{\"__autoGeneratedAlias\":\"true\"}",
         "name": "sum(Reviews)",
         "type": "\"long\""
        }
       ],
       "type": "table"
      }
     },
     "output_type": "display_data"
    },
    {
     "output_type": "display_data",
     "data": {
      "text/plain": [
       "Databricks visualization. Run in Databricks to view."
      ]
     },
     "metadata": {
      "application/vnd.databricks.v1.subcommand+json": {
       "baseErrorDetails": null,
       "bindings": {},
       "collapsed": false,
       "command": "%sql WITH q AS (select App, sum(Reviews) from mydata\ngroup by 1\norder by 2 desc\nlimit 10) SELECT `App`,SUM(`sum(Reviews)`) `column_82a7cb5d2` FROM q GROUP BY `App`",
       "commandTitle": "Visualization 1",
       "commandType": "auto",
       "commandVersion": 0,
       "commentThread": [],
       "commentsVisible": false,
       "contentSha256Hex": null,
       "customPlotOptions": {
        "redashChart": [
         {
          "key": "type",
          "value": "CHART"
         },
         {
          "key": "options",
          "value": {
           "alignYAxesAtZero": true,
           "coefficient": 1,
           "columnConfigurationMap": {
            "x": {
             "column": "App",
             "id": "column_82a7cb5d1"
            },
            "y": [
             {
              "column": "sum(Reviews)",
              "id": "column_82a7cb5d2",
              "transform": "SUM"
             }
            ]
           },
           "dateTimeFormat": "DD/MM/YYYY HH:mm",
           "direction": {
            "type": "counterclockwise"
           },
           "error_y": {
            "type": "data",
            "visible": true
           },
           "globalSeriesType": "pie",
           "isAggregationOn": true,
           "legend": {
            "traceorder": "normal"
           },
           "missingValuesAsZero": true,
           "numberFormat": "0,0.[00000]",
           "percentFormat": "0[.]00%",
           "series": {
            "error_y": {
             "type": "data",
             "visible": true
            },
            "stacking": null
           },
           "seriesOptions": {
            "column_82a7cb5d2": {
             "name": "sum(Reviews)",
             "type": "pie",
             "yAxis": 0
            }
           },
           "showDataLabels": true,
           "sizemode": "diameter",
           "sortX": true,
           "sortY": true,
           "swappedAxes": false,
           "textFormat": "",
           "useAggregationsUi": true,
           "valuesOptions": {},
           "version": 2,
           "xAxis": {
            "labels": {
             "enabled": true
            },
            "type": "-"
           },
           "yAxis": [
            {
             "type": "-"
            },
            {
             "opposite": true,
             "type": "-"
            }
           ]
          }
         }
        ]
       },
       "datasetPreviewNameToCmdIdMap": {},
       "diffDeletes": [],
       "diffInserts": [],
       "displayType": "redashChart",
       "error": null,
       "errorDetails": null,
       "errorSummary": null,
       "errorTraceType": null,
       "finishTime": 0,
       "globalVars": {},
       "guid": "",
       "height": "auto",
       "hideCommandCode": false,
       "hideCommandResult": false,
       "iPythonMetadata": null,
       "inputWidgets": {},
       "isLockedInExamMode": false,
       "latestUser": "a user",
       "latestUserId": null,
       "listResultMetadata": null,
       "metadata": {},
       "nuid": "3c082251-1a38-41e5-9579-c732d76708bd",
       "origId": 0,
       "parentHierarchy": [],
       "pivotAggregation": null,
       "pivotColumns": null,
       "position": 13.0,
       "resultDbfsErrorMessage": null,
       "resultDbfsStatus": "INLINED_IN_TREE",
       "results": null,
       "showCommandTitle": false,
       "startTime": 0,
       "state": "input",
       "streamStates": {},
       "subcommandOptions": {
        "queryPlan": {
         "groups": [
          {
           "column": "App",
           "type": "column"
          }
         ],
         "selects": [
          {
           "column": "App",
           "type": "column"
          },
          {
           "alias": "column_82a7cb5d2",
           "args": [
            {
             "column": "sum(Reviews)",
             "type": "column"
            }
           ],
           "function": "SUM",
           "type": "function"
          }
         ]
        }
       },
       "submitTime": 0,
       "subtype": "tableResultSubCmd.visualization",
       "tableResultIndex": 0,
       "useConsistentColors": false,
       "version": "CommandV1",
       "width": "auto",
       "workflows": [],
       "xColumns": null,
       "yColumns": null
      }
     },
     "output_type": "display_data"
    }
   ],
   "source": [
    "%sql select App, sum(Reviews) from mydata\n",
    "group by 1\n",
    "order by 2 desc\n",
    "limit 5"
   ]
  },
  {
   "cell_type": "code",
   "execution_count": 0,
   "metadata": {
    "application/vnd.databricks.v1+cell": {
     "cellMetadata": {
      "byteLimit": 2048000,
      "rowLimit": 10000
     },
     "inputWidgets": {},
     "nuid": "8b1c8a83-30bc-4927-a7e9-30d0a8a31729",
     "showTitle": false,
     "title": ""
    }
   },
   "outputs": [
    {
     "output_type": "stream",
     "name": "stdout",
     "output_type": "stream",
     "text": [
      "+--------------------+--------------+------+-------+--------+----+-----+------------+---------------+\n|                 App|      Category|Rating|Reviews|Installs|Type|Price|      Genres|   Last Updated|\n+--------------------+--------------+------+-------+--------+----+-----+------------+---------------+\n|Photo Editor & Ca...|ART_AND_DESIGN|   4.1|    159|   10000|Free|    0|Art & Design|January 7, 2018|\n+--------------------+--------------+------+-------+--------+----+-----+------------+---------------+\nonly showing top 1 row\n\n"
     ]
    }
   ],
   "source": [
    "file.show(1)"
   ]
  },
  {
   "cell_type": "code",
   "execution_count": 0,
   "metadata": {
    "application/vnd.databricks.v1+cell": {
     "cellMetadata": {
      "byteLimit": 2048000,
      "implicitDf": true,
      "rowLimit": 10000
     },
     "inputWidgets": {},
     "nuid": "69846624-1f9c-4386-a219-b4131425063c",
     "showTitle": true,
     "title": "Top 10 Installed Apps"
    }
   },
   "outputs": [
    {
     "output_type": "display_data",
     "data": {
      "text/html": [
       "<style scoped>\n",
       "  .table-result-container {\n",
       "    max-height: 300px;\n",
       "    overflow: auto;\n",
       "  }\n",
       "  table, th, td {\n",
       "    border: 1px solid black;\n",
       "    border-collapse: collapse;\n",
       "  }\n",
       "  th, td {\n",
       "    padding: 5px;\n",
       "  }\n",
       "  th {\n",
       "    text-align: left;\n",
       "  }\n",
       "</style><div class='table-result-container'><table class='table-result'><thead style='background-color: white'><tr><th>App</th><th>Type</th><th>sum(Installs)</th></tr></thead><tbody><tr><td>Subway Surfers</td><td>Free</td><td>6000000000</td></tr><tr><td>Instagram</td><td>Free</td><td>4000000000</td></tr><tr><td>Google Drive</td><td>Free</td><td>4000000000</td></tr><tr><td>Hangouts</td><td>Free</td><td>4000000000</td></tr><tr><td>Google Photos</td><td>Free</td><td>4000000000</td></tr></tbody></table></div>"
      ]
     },
     "metadata": {
      "application/vnd.databricks.v1+output": {
       "addedWidgets": {},
       "aggData": [],
       "aggError": "",
       "aggOverflow": false,
       "aggSchema": [],
       "aggSeriesLimitReached": false,
       "aggType": "",
       "arguments": {},
       "columnCustomDisplayInfos": {},
       "data": [
        [
         "Subway Surfers",
         "Free",
         6000000000
        ],
        [
         "Instagram",
         "Free",
         4000000000
        ],
        [
         "Google Drive",
         "Free",
         4000000000
        ],
        [
         "Hangouts",
         "Free",
         4000000000
        ],
        [
         "Google Photos",
         "Free",
         4000000000
        ]
       ],
       "datasetInfos": [],
       "dbfsResultPath": null,
       "isJsonSchema": true,
       "metadata": {},
       "overflow": false,
       "plotOptions": {
        "customPlotOptions": {},
        "displayType": "table",
        "pivotAggregation": null,
        "pivotColumns": null,
        "xColumns": null,
        "yColumns": null
       },
       "removedWidgets": [],
       "schema": [
        {
         "metadata": "{}",
         "name": "App",
         "type": "\"string\""
        },
        {
         "metadata": "{}",
         "name": "Type",
         "type": "\"string\""
        },
        {
         "metadata": "{\"__autoGeneratedAlias\":\"true\"}",
         "name": "sum(Installs)",
         "type": "\"long\""
        }
       ],
       "type": "table"
      }
     },
     "output_type": "display_data"
    },
    {
     "output_type": "display_data",
     "data": {
      "text/plain": [
       "Databricks visualization. Run in Databricks to view."
      ]
     },
     "metadata": {
      "application/vnd.databricks.v1.subcommand+json": {
       "baseErrorDetails": null,
       "bindings": {},
       "collapsed": false,
       "command": "%sql WITH q AS (select App, sum(Installs) from mydata\ngroup by 1\norder by 2 desc\nlimit 5) SELECT `App`,SUM(`sum(Installs)`) `column_82a7cb5d18` FROM q GROUP BY `App`",
       "commandTitle": "Visualization 1",
       "commandType": "auto",
       "commandVersion": 0,
       "commentThread": [],
       "commentsVisible": false,
       "contentSha256Hex": null,
       "customPlotOptions": {
        "redashChart": [
         {
          "key": "type",
          "value": "CHART"
         },
         {
          "key": "options",
          "value": {
           "alignYAxesAtZero": true,
           "coefficient": 1,
           "columnConfigurationMap": {
            "x": {
             "column": "App",
             "id": "column_82a7cb5d17"
            },
            "y": [
             {
              "column": "sum(Installs)",
              "id": "column_82a7cb5d18",
              "transform": "SUM"
             }
            ]
           },
           "dateTimeFormat": "DD/MM/YYYY HH:mm",
           "direction": {
            "type": "counterclockwise"
           },
           "error_y": {
            "type": "data",
            "visible": true
           },
           "globalSeriesType": "pie",
           "legend": {
            "traceorder": "normal"
           },
           "missingValuesAsZero": true,
           "numberFormat": "0,0.[00000]",
           "percentFormat": "0[.]00%",
           "series": {
            "error_y": {
             "type": "data",
             "visible": true
            },
            "stacking": null
           },
           "seriesOptions": {
            "column_82a7cb5d18": {
             "name": "sum(Installs)",
             "type": "pie",
             "yAxis": 0
            }
           },
           "showDataLabels": true,
           "sizemode": "diameter",
           "sortX": true,
           "sortY": true,
           "swappedAxes": false,
           "textFormat": "",
           "useAggregationsUi": true,
           "valuesOptions": {},
           "version": 2,
           "xAxis": {
            "labels": {
             "enabled": true
            },
            "type": "-"
           },
           "yAxis": [
            {
             "type": "-"
            },
            {
             "opposite": true,
             "type": "-"
            }
           ]
          }
         }
        ]
       },
       "datasetPreviewNameToCmdIdMap": {},
       "diffDeletes": [],
       "diffInserts": [],
       "displayType": "redashChart",
       "error": null,
       "errorDetails": null,
       "errorSummary": null,
       "errorTraceType": null,
       "finishTime": 0,
       "globalVars": {},
       "guid": "",
       "height": "auto",
       "hideCommandCode": false,
       "hideCommandResult": false,
       "iPythonMetadata": null,
       "inputWidgets": {},
       "isLockedInExamMode": false,
       "latestUser": "a user",
       "latestUserId": null,
       "listResultMetadata": null,
       "metadata": {},
       "nuid": "0249067d-884f-43ad-afd5-7748c2bb1e6e",
       "origId": 0,
       "parentHierarchy": [],
       "pivotAggregation": null,
       "pivotColumns": null,
       "position": 14.0,
       "resultDbfsErrorMessage": null,
       "resultDbfsStatus": "INLINED_IN_TREE",
       "results": null,
       "showCommandTitle": false,
       "startTime": 0,
       "state": "input",
       "streamStates": {},
       "subcommandOptions": {
        "queryPlan": {
         "groups": [
          {
           "column": "App",
           "type": "column"
          }
         ],
         "selects": [
          {
           "column": "App",
           "type": "column"
          },
          {
           "alias": "column_82a7cb5d18",
           "args": [
            {
             "column": "sum(Installs)",
             "type": "column"
            }
           ],
           "function": "SUM",
           "type": "function"
          }
         ]
        }
       },
       "submitTime": 0,
       "subtype": "tableResultSubCmd.visualization",
       "tableResultIndex": 0,
       "useConsistentColors": false,
       "version": "CommandV1",
       "width": "auto",
       "workflows": [],
       "xColumns": null,
       "yColumns": null
      }
     },
     "output_type": "display_data"
    }
   ],
   "source": [
    "%sql select App, Type  ,sum(Installs) from mydata\n",
    "group by 1,2\n",
    "order by 3 desc\n",
    "limit 5"
   ]
  },
  {
   "cell_type": "code",
   "execution_count": 0,
   "metadata": {
    "application/vnd.databricks.v1+cell": {
     "cellMetadata": {
      "byteLimit": 2048000,
      "implicitDf": true,
      "rowLimit": 10000
     },
     "inputWidgets": {},
     "nuid": "f54d247d-0a66-4ec7-8250-1634b551bb5f",
     "showTitle": true,
     "title": "Top Reviews given to app"
    }
   },
   "outputs": [
    {
     "output_type": "display_data",
     "data": {
      "text/html": [
       "<style scoped>\n",
       "  .table-result-container {\n",
       "    max-height: 300px;\n",
       "    overflow: auto;\n",
       "  }\n",
       "  table, th, td {\n",
       "    border: 1px solid black;\n",
       "    border-collapse: collapse;\n",
       "  }\n",
       "  th, td {\n",
       "    padding: 5px;\n",
       "  }\n",
       "  th {\n",
       "    text-align: left;\n",
       "  }\n",
       "</style><div class='table-result-container'><table class='table-result'><thead style='background-color: white'><tr><th>App</th><th>Total_Reviews</th></tr></thead><tbody><tr><td>Instagram</td><td>266241989</td></tr><tr><td>WhatsApp Messenger</td><td>207348304</td></tr><tr><td>Clash of Clans</td><td>179558781</td></tr><tr><td>Messenger – Text and Video Chat for Free</td><td>169932272</td></tr><tr><td>Subway Surfers</td><td>166331958</td></tr></tbody></table></div>"
      ]
     },
     "metadata": {
      "application/vnd.databricks.v1+output": {
       "addedWidgets": {},
       "aggData": [],
       "aggError": "",
       "aggOverflow": false,
       "aggSchema": [],
       "aggSeriesLimitReached": false,
       "aggType": "",
       "arguments": {},
       "columnCustomDisplayInfos": {},
       "data": [
        [
         "Instagram",
         266241989
        ],
        [
         "WhatsApp Messenger",
         207348304
        ],
        [
         "Clash of Clans",
         179558781
        ],
        [
         "Messenger – Text and Video Chat for Free",
         169932272
        ],
        [
         "Subway Surfers",
         166331958
        ]
       ],
       "datasetInfos": [],
       "dbfsResultPath": null,
       "isJsonSchema": true,
       "metadata": {},
       "overflow": false,
       "plotOptions": {
        "customPlotOptions": {},
        "displayType": "table",
        "pivotAggregation": null,
        "pivotColumns": null,
        "xColumns": null,
        "yColumns": null
       },
       "removedWidgets": [],
       "schema": [
        {
         "metadata": "{}",
         "name": "App",
         "type": "\"string\""
        },
        {
         "metadata": "{}",
         "name": "Total_Reviews",
         "type": "\"long\""
        }
       ],
       "type": "table"
      }
     },
     "output_type": "display_data"
    }
   ],
   "source": [
    "%sql select App, sum(Reviews) as Total_Reviews from mydata\n",
    "group by 1\n",
    "order by 2 desc\n",
    "limit 5"
   ]
  },
  {
   "cell_type": "code",
   "execution_count": 0,
   "metadata": {
    "application/vnd.databricks.v1+cell": {
     "cellMetadata": {
      "byteLimit": 2048000,
      "implicitDf": true,
      "rowLimit": 10000
     },
     "inputWidgets": {},
     "nuid": "770f0b09-4cb6-4380-b950-eca4add745b1",
     "showTitle": true,
     "title": "top 5 paid apps"
    }
   },
   "outputs": [
    {
     "output_type": "display_data",
     "data": {
      "text/html": [
       "<style scoped>\n",
       "  .table-result-container {\n",
       "    max-height: 300px;\n",
       "    overflow: auto;\n",
       "  }\n",
       "  table, th, td {\n",
       "    border: 1px solid black;\n",
       "    border-collapse: collapse;\n",
       "  }\n",
       "  th, td {\n",
       "    padding: 5px;\n",
       "  }\n",
       "  th {\n",
       "    text-align: left;\n",
       "  }\n",
       "</style><div class='table-result-container'><table class='table-result'><thead style='background-color: white'><tr><th>App</th><th>Type</th><th>sum(Price)</th></tr></thead><tbody><tr><td>I'm Rich - Trump Edition</td><td>Paid</td><td>400</td></tr><tr><td>I am Rich</td><td>Paid</td><td>399</td></tr><tr><td>I am Rich Plus</td><td>Paid</td><td>399</td></tr><tr><td>I AM RICH PRO PLUS</td><td>Paid</td><td>399</td></tr></tbody></table></div>"
      ]
     },
     "metadata": {
      "application/vnd.databricks.v1+output": {
       "addedWidgets": {},
       "aggData": [],
       "aggError": "",
       "aggOverflow": false,
       "aggSchema": [],
       "aggSeriesLimitReached": false,
       "aggType": "",
       "arguments": {},
       "columnCustomDisplayInfos": {},
       "data": [
        [
         "I'm Rich - Trump Edition",
         "Paid",
         400
        ],
        [
         "I am Rich",
         "Paid",
         399
        ],
        [
         "I am Rich Plus",
         "Paid",
         399
        ],
        [
         "I AM RICH PRO PLUS",
         "Paid",
         399
        ]
       ],
       "datasetInfos": [],
       "dbfsResultPath": null,
       "isJsonSchema": true,
       "metadata": {},
       "overflow": false,
       "plotOptions": {
        "customPlotOptions": {},
        "displayType": "table",
        "pivotAggregation": null,
        "pivotColumns": null,
        "xColumns": null,
        "yColumns": null
       },
       "removedWidgets": [],
       "schema": [
        {
         "metadata": "{}",
         "name": "App",
         "type": "\"string\""
        },
        {
         "metadata": "{}",
         "name": "Type",
         "type": "\"string\""
        },
        {
         "metadata": "{\"__autoGeneratedAlias\":\"true\"}",
         "name": "sum(Price)",
         "type": "\"long\""
        }
       ],
       "type": "table"
      }
     },
     "output_type": "display_data"
    },
    {
     "output_type": "display_data",
     "data": {
      "text/plain": [
       "Databricks visualization. Run in Databricks to view."
      ]
     },
     "metadata": {
      "application/vnd.databricks.v1.subcommand+json": {
       "baseErrorDetails": null,
       "bindings": {},
       "collapsed": false,
       "command": "%sql WITH q AS (select App , Type , sum(Price) from mydata \ngroup by 1,2\norder by 3 desc\nlimit 4) SELECT `App`,`Type`,SUM(`sum(Price)`) `column_82a7cb5d26` FROM q GROUP BY `App`,`Type`",
       "commandTitle": "Visualization 1",
       "commandType": "auto",
       "commandVersion": 0,
       "commentThread": [],
       "commentsVisible": false,
       "contentSha256Hex": null,
       "customPlotOptions": {
        "redashChart": [
         {
          "key": "type",
          "value": "PIVOT_TABLE"
         },
         {
          "key": "options",
          "value": {
           "cell": {
            "field": "App",
            "transform": {
             "fn": "count"
            }
           },
           "colorCellsByValue": false,
           "columns": [],
           "rows": [
            {
             "field": "App",
             "sort": "descending"
            },
            {
             "field": "sum(Price)",
             "sort": "descending"
            },
            {
             "field": "Type",
             "sort": "ascending"
            }
           ]
          }
         }
        ]
       },
       "datasetPreviewNameToCmdIdMap": {},
       "diffDeletes": [],
       "diffInserts": [],
       "displayType": "redashChart",
       "error": null,
       "errorDetails": null,
       "errorSummary": null,
       "errorTraceType": null,
       "finishTime": 0,
       "globalVars": {},
       "guid": "",
       "height": "auto",
       "hideCommandCode": false,
       "hideCommandResult": false,
       "iPythonMetadata": null,
       "inputWidgets": {},
       "isLockedInExamMode": false,
       "latestUser": "a user",
       "latestUserId": null,
       "listResultMetadata": null,
       "metadata": {},
       "nuid": "d72d6478-d4ba-489a-8756-107b9841b4f4",
       "origId": 0,
       "parentHierarchy": [],
       "pivotAggregation": null,
       "pivotColumns": null,
       "position": 16.0,
       "resultDbfsErrorMessage": null,
       "resultDbfsStatus": "INLINED_IN_TREE",
       "results": null,
       "showCommandTitle": false,
       "startTime": 0,
       "state": "input",
       "streamStates": {},
       "subcommandOptions": {
        "queryPlan": {
         "groups": [
          {
           "column": "App",
           "type": "column"
          },
          {
           "column": "sum(Price)",
           "type": "column"
          },
          {
           "column": "Type",
           "type": "column"
          }
         ],
         "order_by": [
          {
           "direction": "desc",
           "expression": {
            "identifier": "App",
            "kind": "identifier"
           }
          },
          {
           "direction": "desc",
           "expression": {
            "identifier": "sum(Price)",
            "kind": "identifier"
           }
          },
          {
           "direction": "asc",
           "expression": {
            "identifier": "Type",
            "kind": "identifier"
           }
          }
         ],
         "selects": [
          {
           "column": "App",
           "type": "column"
          },
          {
           "column": "sum(Price)",
           "type": "column"
          },
          {
           "column": "Type",
           "type": "column"
          },
          {
           "alias": "App_alias",
           "args": [
            {
             "column": "App",
             "type": "column"
            }
           ],
           "function": "COUNT",
           "type": "function"
          }
         ]
        }
       },
       "submitTime": 0,
       "subtype": "tableResultSubCmd.visualization",
       "tableResultIndex": 0,
       "useConsistentColors": false,
       "version": "CommandV1",
       "width": "auto",
       "workflows": [],
       "xColumns": null,
       "yColumns": null
      }
     },
     "output_type": "display_data"
    }
   ],
   "source": [
    "%sql select App , Type , sum(Price) from mydata \n",
    "group by 1,2\n",
    "order by 3 desc\n",
    "limit 4 "
   ]
  }
 ],
 "metadata": {
  "application/vnd.databricks.v1+notebook": {
   "dashboards": [],
   "language": "python",
   "notebookMetadata": {
    "mostRecentlyExecutedCommandWithImplicitDF": {
     "commandId": 1505940152383631,
     "dataframes": [
      "_sqldf"
     ]
    },
    "pythonIndentUnit": 4
   },
   "notebookName": "PySpark_Project",
   "widgets": {}
  }
 },
 "nbformat": 4,
 "nbformat_minor": 0
}
